{
 "cells": [
  {
   "cell_type": "code",
   "execution_count": 6,
   "metadata": {},
   "outputs": [],
   "source": [
    "import matplotlib.pyplot as plt\n",
    "import numpy as np\n",
    "import torch\n",
    "import torch.nn as nn\n",
    "import torch.nn.functional as F\n",
    "import requests"
   ]
  },
  {
   "cell_type": "code",
   "execution_count": 20,
   "metadata": {},
   "outputs": [],
   "source": [
    "# Fetches the data from the COVID19India website\n",
    "class DataFetcher:\n",
    "    def __init__(self, url=\"https://api.covid19india.org/data.json\"):\n",
    "        self.url = url\n",
    "        self.json_data = None\n",
    "        self.cases_time_series = None\n",
    "        \n",
    "    def fetch(self):\n",
    "        r = requests.get(url=self.url)\n",
    "        self.json_data = r.json()\n",
    "        \n",
    "        # Get the fields\n",
    "        fields = list(self.json_data['cases_time_series'][0].keys())\n",
    "        self.cases_time_series = {}\n",
    "        \n",
    "        for field in fields:\n",
    "            if field == 'date':\n",
    "                self.cases_time_series[field] = [x[field] for x in self.json_data['cases_time_series']]\n",
    "            else:\n",
    "                self.cases_time_series[field] = torch.Tensor([float(x[field]) for x in self.json_data['cases_time_series']])"
   ]
  },
  {
   "cell_type": "markdown",
   "metadata": {},
   "source": [
    "<h2>A time dependent SIR model</h2>\n",
    "\n",
    "$$  \\frac{dS}{dt} = -\\frac{\\beta IS}{N} \\tag1 $$\n",
    "$$    \\frac{dI}{dt} = \\frac{\\beta IS}{N} - \\gamma I \\tag2 $$\n",
    "$$    \\frac{dR}{dt} = \\gamma I \\tag3 $$\n"
   ]
  },
  {
   "cell_type": "code",
   "execution_count": 21,
   "metadata": {},
   "outputs": [],
   "source": [
    "class SIR(nn.Module):\n",
    "    def __init__(self, change_times, gamma, delta_t=0.1):\n",
    "        \"\"\"\n",
    "            change_times: list of times at which beta could have changed \n",
    "                          (eg. when lockdown lifted/put in place)\n",
    "            gamma: the fraction of infected which die -- constant number\n",
    "            delta_t: the difference between two successive calculations of the \n",
    "                                differential equation\n",
    "        \"\"\"\n",
    "        \n",
    "        super(SIR, self).__init__()\n",
    "        \n",
    "        self.change_times = change_times\n",
    "        \n",
    "        # Initialize parameters with best estimates\n",
    "        self.beta = nn.ParameterList([nn.Parameter(torch.zeros(1)) for i in change_times])\n",
    "        self.gamma = nn.Parameter(torch.ones(1) * 0.01)\n",
    "        \n",
    "    def forward(self, n):\n",
    "        \"\"\"\n",
    "            Get predictions for n days\n",
    "        \"\"\"\n",
    "        \n",
    "        S, I, R, t = 1.0, [0.0], [0.0], 0.0\n",
    "        curr_beta_idx = 0 # Stores the current beta value we are using\n",
    "        \n",
    "        for i in range(n):\n",
    "            # Compute updates to values\n",
    "            delta_S = -self.beta[curr_beta_idx] * I[-1] * S\n",
    "            delta_I = self.beta[curr_beta_idx] * I[-1] * S - self.gamma * I\n",
    "            delta_R = self.gamma * I[-1]\n",
    "            \n",
    "            # Update all parameters\n",
    "            S += delta_S\n",
    "            I.append(I[-1] + delta_I)\n",
    "            R.append(R[-1] + delta_R)\n",
    "            t += self.delta_t\n",
    "            \n",
    "            # Update the value of beta\n",
    "            if (curr_beta_idx == len(self.change_times) - 1):\n",
    "                continue\n",
    "            elif (self.change_times[curr_beta_idx + 1] <= t):\n",
    "                curr_beta_idx += 1\n",
    "        \n",
    "        # Report values every day\n",
    "        interval = int(1 / self.delta_t)\n",
    "        return I[::interval], R[::interval]"
   ]
  },
  {
   "cell_type": "code",
   "execution_count": 25,
   "metadata": {},
   "outputs": [
    {
     "data": {
      "text/plain": [
       "dict_keys(['dailyconfirmed', 'dailydeceased', 'dailyrecovered', 'date', 'totalconfirmed', 'totaldeceased', 'totalrecovered'])"
      ]
     },
     "execution_count": 25,
     "metadata": {},
     "output_type": "execute_result"
    }
   ],
   "source": [
    "fetcher = DataFetcher()\n",
    "fetcher.fetch()"
   ]
  },
  {
   "cell_type": "code",
   "execution_count": null,
   "metadata": {},
   "outputs": [],
   "source": []
  }
 ],
 "metadata": {
  "kernelspec": {
   "display_name": "Python 3",
   "language": "python",
   "name": "python3"
  },
  "language_info": {
   "codemirror_mode": {
    "name": "ipython",
    "version": 3
   },
   "file_extension": ".py",
   "mimetype": "text/x-python",
   "name": "python",
   "nbconvert_exporter": "python",
   "pygments_lexer": "ipython3",
   "version": "3.6.3"
  }
 },
 "nbformat": 4,
 "nbformat_minor": 2
}
