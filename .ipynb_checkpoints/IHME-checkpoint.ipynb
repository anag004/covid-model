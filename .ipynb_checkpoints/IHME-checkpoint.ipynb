{
 "cells": [
  {
   "cell_type": "code",
   "execution_count": 51,
   "metadata": {},
   "outputs": [],
   "source": [
    "import pandas as pd\n",
    "import numpy as np\n",
    "import matplotlib.pyplot as plt\n",
    "import requests\n",
    "from curvefit.core.model import CurveModel\n",
    "from curvefit.core.functions import ln_gaussian_cdf\n",
    "from scipy.stats import norm"
   ]
  },
  {
   "cell_type": "code",
   "execution_count": 28,
   "metadata": {},
   "outputs": [],
   "source": [
    "# Fetches the data from the COVID19India website\n",
    "class DataFetcher:\n",
    "    def __init__(self, url=\"https://api.covid19india.org/data.json\"):\n",
    "        self.url = url\n",
    "        self.json_data = None\n",
    "        self.cases_time_series = None\n",
    "        \n",
    "    def fetch(self):\n",
    "        r = requests.get(url=self.url)\n",
    "        self.json_data = r.json()\n",
    "        \n",
    "        # Get the fields\n",
    "        fields = list(self.json_data['cases_time_series'][0].keys())\n",
    "        self.cases_time_series = {}\n",
    "        \n",
    "        for field in fields:\n",
    "            if field == 'date':\n",
    "                self.cases_time_series[field] = [x[field] for x in self.json_data['cases_time_series']]\n",
    "            else:\n",
    "                self.cases_time_series[field] = np.array([float(x[field]) for x in self.json_data['cases_time_series']])"
   ]
  },
  {
   "cell_type": "code",
   "execution_count": 29,
   "metadata": {},
   "outputs": [],
   "source": [
    "fetcher = DataFetcher()\n",
    "fetcher.fetch()"
   ]
  },
  {
   "cell_type": "code",
   "execution_count": 116,
   "metadata": {},
   "outputs": [],
   "source": [
    "df = pd.DataFrame()\n",
    "df['death_rate'] = fetcher.cases_time_series['dailydeceased'][50:].cumsum()\n",
    "df['time'] = np.arange(df['death_rate'].shape[0])\n",
    "df['ln_death_rate'] = np.log(df['death_rate'] + 1)\n",
    "df['group'] = 'all'\n",
    "df['intercept'] = 1.0"
   ]
  },
  {
   "cell_type": "code",
   "execution_count": 118,
   "metadata": {},
   "outputs": [
    {
     "data": {
      "image/png": "[encoded data removed]",
      "text/plain": [
       "<Figure size 432x288 with 1 Axes>"
      ]
     },
     "metadata": {
      "needs_background": "light"
     },
     "output_type": "display_data"
    }
   ],
   "source": [
    "# Set up the CurveModel\n",
    "model = CurveModel(\n",
    "    df=df,\n",
    "    col_t='time',\n",
    "    col_obs='ln_death_rate',\n",
    "    col_group='group',\n",
    "    col_covs=[['intercept'], ['intercept'], ['intercept']],\n",
    "    param_names=['alpha', 'beta', 'p'],\n",
    "    link_fun=[lambda x: x, lambda x: x, lambda x: x],\n",
    "    var_link_fun=[lambda x: x, lambda x: x, lambda x: x],\n",
    "    fun=ln_gaussian_cdf\n",
    ")\n",
    "\n",
    "# Fit the model to estimate parameters\n",
    "model.fit_params(fe_init=[0.03, 100, 10 ** 5])\n",
    "\n",
    "# Get predictions\n",
    "y_pred = model.predict(\n",
    "    t=np.arange(200),\n",
    "    group_name=df.group.unique()\n",
    ")\n",
    "\n",
    "# Normal value\n",
    "alpha = 0.035\n",
    "beta = 100\n",
    "p = 10 ** 5\n",
    "\n",
    "# Plot results\n",
    "plt.plot(np.arange(200), y_pred, '-')\n",
    "# plt.plot(np.arange(200), m_preds, '.')\n",
    "plt.plot(df.time, df.ln_death_rate, '.')\n",
    "plt.show()"
   ]
  }
 ],
 "metadata": {
  "kernelspec": {
   "display_name": "venv",
   "language": "python",
   "name": "venv"
  },
  "language_info": {
   "codemirror_mode": {
    "name": "ipython",
    "version": 3
   },
   "file_extension": ".py",
   "mimetype": "text/x-python",
   "name": "python",
   "nbconvert_exporter": "python",
   "pygments_lexer": "ipython3",
   "version": "3.6.3"
  }
 },
 "nbformat": 4,
 "nbformat_minor": 2
}
