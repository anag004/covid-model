{
 "cells": [
  {
   "cell_type": "code",
   "execution_count": 119,
   "metadata": {},
   "outputs": [],
   "source": [
    "import pandas as pd\n",
    "import numpy as np\n",
    "import matplotlib.pyplot as plt\n",
    "import requests\n",
    "import datetime as dt\n",
    "from sklearn.decomposition import PCA\n",
    "from patsy import dmatrices\n",
    "import statsmodels.api as sm\n",
    "import statsmodels.formula.api as smf\n",
    "import warnings\n",
    "warnings.filterwarnings(\"ignore\")\n",
    "import pymc3 as pm\n",
    "import theano\n",
    "from scipy import optimize\n",
    "from copy import deepcopy"
   ]
  },
  {
   "cell_type": "code",
   "execution_count": 15,
   "metadata": {
    "code_folding": [
     0
    ]
   },
   "outputs": [],
   "source": [
    "class DataFetcher:\n",
    "    def __init__(self, url=\"https://api.covid19india.org/data.json\"):\n",
    "        self.url = url\n",
    "        self.json_data = None\n",
    "        self.cases_time_series = None\n",
    "        \n",
    "    def fetch(self):\n",
    "        r = requests.get(url=self.url)\n",
    "        self.json_data = r.json()\n",
    "        \n",
    "        # NOTE : start date of this data is 30 Jan\n",
    "        \n",
    "        # Get the fields\n",
    "        fields = list(self.json_data['cases_time_series'][0].keys())\n",
    "        self.cases_time_series = {}\n",
    "        \n",
    "        for field in fields:\n",
    "            if field == 'date':\n",
    "                self.cases_time_series[field] = [x[field] for x in self.json_data['cases_time_series']]\n",
    "            else:\n",
    "                self.cases_time_series[field] = np.array([float(x[field]) for x in self.json_data['cases_time_series']])"
   ]
  },
  {
   "cell_type": "code",
   "execution_count": 16,
   "metadata": {
    "code_folding": [
     0
    ]
   },
   "outputs": [],
   "source": [
    "class DataFetcherState:\n",
    "    \"\"\"Fetch data for all states\"\"\"\n",
    "    \n",
    "    def __init__(self):\n",
    "        self.data = None\n",
    "        self.raw_data = None\n",
    "    \n",
    "    def fetch(self):\n",
    "        # Fetch the raw data\n",
    "        r = requests.get(url=\"https://api.covid19india.org/states_daily.json\")\n",
    "        self.raw_data = r.json()\n",
    "        self.data = {}\n",
    "        \n",
    "        # Iterate over the days and record the data\n",
    "        for entry in self.raw_data['states_daily']:\n",
    "            status = entry['status'].lower()\n",
    "            for state in entry:\n",
    "                if state == \"date\" or state == \"status\":\n",
    "                    continue\n",
    "                    \n",
    "                if state not in self.data:\n",
    "                    # Initialize this state\n",
    "                    self.data[state] = {\n",
    "                        'deceased': [],\n",
    "                        'recovered': [],\n",
    "                        'confirmed': []\n",
    "                    }\n",
    "                \n",
    "                # Append the data\n",
    "                self.data[state][status].append(entry[state])\n",
    "                \n",
    "    def start_date(self):\n",
    "        return self.raw_data['states_daily'][0]['date']"
   ]
  },
  {
   "cell_type": "code",
   "execution_count": 19,
   "metadata": {
    "code_folding": [
     0
    ]
   },
   "outputs": [],
   "source": [
    "def get_mob_data(region=None):\n",
    "    df = pd.read_csv(\"Global_Mobility_Report.csv\", low_memory=False)\n",
    "    df = df[df['country_region'] == 'India']\n",
    "    if region is None:\n",
    "        df = df[pd.isnull(df['sub_region_1'])]\n",
    "    else:\n",
    "        df = df[df['sub_region_1'] == region]\n",
    "    df = df[df['date'] >= '2020-02-25']\n",
    "    \n",
    "    return df"
   ]
  },
  {
   "cell_type": "code",
   "execution_count": 25,
   "metadata": {
    "code_folding": [
     0
    ]
   },
   "outputs": [],
   "source": [
    "def get_social_distance(df, death_data):\n",
    "    \"\"\"Retrieve social distancing data from dataframe and return the pcas\"\"\"\n",
    "\n",
    "    df = deepcopy(df)\n",
    "    \n",
    "    \n",
    "    locations = ['retail_and_recreation',\n",
    "                 'grocery_and_pharmacy',\n",
    "                 'parks',\n",
    "                 'transit_stations',\n",
    "                 'workplaces',\n",
    "                 'residential']\n",
    "    \n",
    "    # Make the lengths of the data equal\n",
    "    if len(df) > len(death_data):\n",
    "        df = df[:-(len(df) - len(death_data))]\n",
    "    else:\n",
    "        for i in range(len(death_data) - len(df)):\n",
    "            df = df.append(df.iloc[-1])\n",
    "\n",
    "    X = np.zeros((len(df), len(locations)))\n",
    "            \n",
    "    for i, loc in enumerate(locations):\n",
    "        X[:, i] += np.array(df['{}_percent_change_from_baseline'.format(loc)])\n",
    "    \n",
    "    return PCA(n_components=4).fit_transform(X)"
   ]
  },
  {
   "cell_type": "markdown",
   "metadata": {},
   "source": [
    "<h1>India - with social distancing </h1>\n",
    "\n",
    "The model has the following specification\n",
    "\n",
    "$$y_{it} \\sim \\textrm{NegBin}(\\lambda_{it}, r)$$\n",
    "\n",
    "$$log \\lambda_{it} = \\beta_{it,0} + \\beta_{it,1}t + \\beta_{it,2}t^2$$\n",
    "\n",
    "$$(\\beta_{it,0}, \\beta_{it,1}, \\beta_{it,2})^T = \\mu + \\Gamma x_{it} + \\eta_i$$\n",
    "\n",
    "$$\\eta_i \\sim \\mathcal{N}(0, \\Sigma)$$\n",
    "\n",
    "Here, the parameters are $\\mu \\in \\mathbb{R}^{3\\times1}, \\Gamma \\in \\mathbb{R}^{3\\times4}, \\Sigma \\in \\mathbb{R}^{3\\times3}$"
   ]
  },
  {
   "cell_type": "code",
   "execution_count": 88,
   "metadata": {
    "code_folding": []
   },
   "outputs": [],
   "source": [
    "# Get data for India\n",
    "offset = 43\n",
    "df = get_mob_data()\n",
    "fetcher = DataFetcher()\n",
    "fetcher.fetch()\n",
    "death_data = fetcher.cases_time_series['dailydeceased'][offset:]"
   ]
  },
  {
   "cell_type": "code",
   "execution_count": 89,
   "metadata": {
    "code_folding": []
   },
   "outputs": [
    {
     "data": {
      "image/png": "[encoded data removed]",
      "text/plain": [
       "<Figure size 432x288 with 1 Axes>"
      ]
     },
     "metadata": {
      "needs_background": "light"
     },
     "output_type": "display_data"
    }
   ],
   "source": [
    "# Plot the PCs\n",
    "social_distance = get_social_distance(df, death_data)\n",
    "\n",
    "# Plot the PCAs\n",
    "for x in social_distance.T:\n",
    "    plt.plot(x)\n",
    "    \n",
    "plt.show()"
   ]
  },
  {
   "cell_type": "code",
   "execution_count": 143,
   "metadata": {},
   "outputs": [
    {
     "ename": "TypeError",
     "evalue": "unsupported operand type(s) for @: 'numpy.ndarray' and 'TensorVariable'",
     "output_type": "error",
     "traceback": [
      "\u001b[0;31m---------------------------------------------------------------------------\u001b[0m",
      "\u001b[0;31mTypeError\u001b[0m                                 Traceback (most recent call last)",
      "\u001b[0;32m<ipython-input-143-eb5d4eca8912>\u001b[0m in \u001b[0;36m<module>\u001b[0;34m\u001b[0m\n\u001b[1;32m     22\u001b[0m     \u001b[0meta\u001b[0m \u001b[0;34m=\u001b[0m \u001b[0mpm\u001b[0m\u001b[0;34m.\u001b[0m\u001b[0mMvNormal\u001b[0m\u001b[0;34m(\u001b[0m\u001b[0;34m'eta'\u001b[0m\u001b[0;34m,\u001b[0m \u001b[0mmu\u001b[0m\u001b[0;34m=\u001b[0m\u001b[0mnp\u001b[0m\u001b[0;34m.\u001b[0m\u001b[0mones\u001b[0m\u001b[0;34m(\u001b[0m\u001b[0;36m3\u001b[0m\u001b[0;34m)\u001b[0m \u001b[0;34m*\u001b[0m \u001b[0;36m1e-3\u001b[0m\u001b[0;34m,\u001b[0m \u001b[0mcov\u001b[0m\u001b[0;34m=\u001b[0m\u001b[0mchol\u001b[0m\u001b[0;34m,\u001b[0m \u001b[0mshape\u001b[0m\u001b[0;34m=\u001b[0m\u001b[0;36m3\u001b[0m\u001b[0;34m)\u001b[0m\u001b[0;34m\u001b[0m\u001b[0m\n\u001b[1;32m     23\u001b[0m \u001b[0;34m\u001b[0m\u001b[0m\n\u001b[0;32m---> 24\u001b[0;31m     \u001b[0mmat\u001b[0m \u001b[0;34m=\u001b[0m \u001b[0msocial_distance\u001b[0m \u001b[0;34m@\u001b[0m \u001b[0mgamma\u001b[0m\u001b[0;34m\u001b[0m\u001b[0m\n\u001b[0m\u001b[1;32m     25\u001b[0m \u001b[0;34m\u001b[0m\u001b[0m\n\u001b[1;32m     26\u001b[0m     \u001b[0mbeta_0\u001b[0m \u001b[0;34m=\u001b[0m \u001b[0mmu\u001b[0m\u001b[0;34m[\u001b[0m\u001b[0;36m0\u001b[0m\u001b[0;34m]\u001b[0m \u001b[0;34m+\u001b[0m \u001b[0mmat\u001b[0m\u001b[0;34m[\u001b[0m\u001b[0;34m:\u001b[0m\u001b[0;34m,\u001b[0m \u001b[0;36m0\u001b[0m\u001b[0;34m]\u001b[0m \u001b[0;34m+\u001b[0m \u001b[0meta\u001b[0m\u001b[0;34m[\u001b[0m\u001b[0;36m0\u001b[0m\u001b[0;34m]\u001b[0m\u001b[0;34m\u001b[0m\u001b[0m\n",
      "\u001b[0;31mTypeError\u001b[0m: unsupported operand type(s) for @: 'numpy.ndarray' and 'TensorVariable'"
     ]
    }
   ],
   "source": [
    "###########\n",
    "# Look at this tutorial -\n",
    "# https://docs.pymc.io/notebooks/getting_started.html\n",
    "###########    \n",
    " \n",
    "model = pm.Model()\n",
    "n_data = social_distance.shape[0]\n",
    "t = np.arange(n_data)\n",
    "\n",
    "\n",
    "with model:\n",
    "    # Weakly informative priors on the parameters\n",
    "    gamma_raw = pm.Normal('gamma', mu=0, sigma=100, shape=(4, 3))\n",
    "    mu = pm.Normal('mu', mu=1e-3, sigma=100, shape=3)\n",
    "    \n",
    "    sd_dist = pm.HalfCauchy.dist(beta=2.5)\n",
    "    packed_chol = pm.LKJCholeskyCov('chol_cov', eta=1, n=3, sd_dist=sd_dist)\n",
    "    chol = pm.expand_packed_triangular(3, packed_chol, lower=True)\n",
    "    \n",
    "    # Define relationships amongst the params\n",
    "    eta = pm.MvNormal('eta', mu=np.ones(3) * 1e-3, cov=chol, shape=3)\n",
    "    \n",
    "    mat = social_distance @ gamma\n",
    "    \n",
    "    beta_0 = mu[0] + mat[:, 0] + eta[0]\n",
    "    beta_1 = mu[1] + mat[:, 1] + eta[1]\n",
    "    beta_2 = mu[2] + mat[:, 2] + eta[2]\n",
    "    \n",
    "    lamb = np.exp(beta_0 + beta_1 * t + beta_2 * (t ** 2))\n",
    "    \n",
    "    Y_obs = pm.NegativeBinomial('Y_obs', mu=lamb, alpha=1, observed=death_data)\n",
    "    \n",
    "    for RV in model.basic_RVs:\n",
    "        print(RV.name, RV.logp(model.test_point))\n",
    "    \n",
    "    # obtain starting values via MAP\n",
    "#     start = pm.find_MAP(fmin=optimize.fmin_powell)\n",
    "    \n",
    "    # instantiate sampler\n",
    "#     step = pm.NUTS(scaling=start)\n",
    "    \n",
    "    # draw 2000 posterior samples\n",
    "#     trace = pm.sample(2000, step, start=start)\n",
    "#     map_estimate = pm.find_MAP(model=model)"
   ]
  },
  {
   "cell_type": "code",
   "execution_count": null,
   "metadata": {},
   "outputs": [],
   "source": []
  },
  {
   "cell_type": "code",
   "execution_count": null,
   "metadata": {},
   "outputs": [],
   "source": []
  },
  {
   "cell_type": "code",
   "execution_count": null,
   "metadata": {},
   "outputs": [],
   "source": []
  },
  {
   "cell_type": "code",
   "execution_count": null,
   "metadata": {},
   "outputs": [],
   "source": []
  },
  {
   "cell_type": "code",
   "execution_count": null,
   "metadata": {},
   "outputs": [],
   "source": []
  },
  {
   "cell_type": "code",
   "execution_count": null,
   "metadata": {},
   "outputs": [],
   "source": []
  },
  {
   "cell_type": "code",
   "execution_count": null,
   "metadata": {},
   "outputs": [],
   "source": []
  },
  {
   "cell_type": "code",
   "execution_count": null,
   "metadata": {},
   "outputs": [],
   "source": []
  },
  {
   "cell_type": "code",
   "execution_count": null,
   "metadata": {},
   "outputs": [],
   "source": []
  }
 ],
 "metadata": {
  "kernelspec": {
   "display_name": "venv",
   "language": "python",
   "name": "venv"
  },
  "language_info": {
   "codemirror_mode": {
    "name": "ipython",
    "version": 3
   },
   "file_extension": ".py",
   "mimetype": "text/x-python",
   "name": "python",
   "nbconvert_exporter": "python",
   "pygments_lexer": "ipython3",
   "version": "3.6.3"
  }
 },
 "nbformat": 4,
 "nbformat_minor": 4
}
