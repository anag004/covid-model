{
 "cells": [
  {
   "cell_type": "code",
   "execution_count": 1,
   "metadata": {},
   "outputs": [],
   "source": [
    "import pandas as pd\n",
    "import numpy as np\n",
    "import matplotlib.pyplot as plt\n",
    "import requests\n",
    "from curvefit.core.model import CurveModel\n",
    "from curvefit.core.functions import ln_gaussian_cdf, gaussian_cdf\n",
    "from scipy.stats import norm"
   ]
  },
  {
   "cell_type": "code",
   "execution_count": 2,
   "metadata": {},
   "outputs": [],
   "source": [
    "# Fetches the data from the COVID19India website\n",
    "class DataFetcher:\n",
    "    def __init__(self, url=\"https://api.covid19india.org/data.json\"):\n",
    "        self.url = url\n",
    "        self.json_data = None\n",
    "        self.cases_time_series = None\n",
    "        \n",
    "    def fetch(self):\n",
    "        r = requests.get(url=self.url)\n",
    "        self.json_data = r.json()\n",
    "        \n",
    "        # Get the fields\n",
    "        fields = list(self.json_data['cases_time_series'][0].keys())\n",
    "        self.cases_time_series = {}\n",
    "        \n",
    "        for field in fields:\n",
    "            if field == 'date':\n",
    "                self.cases_time_series[field] = [x[field] for x in self.json_data['cases_time_series']]\n",
    "            else:\n",
    "                self.cases_time_series[field] = np.array([float(x[field]) for x in self.json_data['cases_time_series']])"
   ]
  },
  {
   "cell_type": "code",
   "execution_count": 3,
   "metadata": {},
   "outputs": [],
   "source": [
    "fetcher = DataFetcher()\n",
    "fetcher.fetch()"
   ]
  },
  {
   "cell_type": "code",
   "execution_count": 4,
   "metadata": {},
   "outputs": [],
   "source": [
    "df = pd.DataFrame()\n",
    "df['death_rate'] = fetcher.cases_time_series['dailydeceased'][40:].cumsum()\n",
    "df['time'] = np.arange(df['death_rate'].shape[0])\n",
    "df['ln_death_rate'] = np.log(df['death_rate'] + 1)\n",
    "df['group'] = 'all'\n",
    "df['intercept'] = 1.0"
   ]
  },
  {
   "cell_type": "markdown",
   "metadata": {},
   "source": [
    "<h2>Model fit for cumulative number of deaths in India</h2>"
   ]
  },
  {
   "cell_type": "markdown",
   "metadata": {},
   "source": [
    "<h3>Single Gaussian Atom</h3>"
   ]
  },
  {
   "cell_type": "code",
   "execution_count": 5,
   "metadata": {},
   "outputs": [
    {
     "data": {
      "image/png": "[encoded data removed]",
      "text/plain": [
       "<Figure size 432x288 with 1 Axes>"
      ]
     },
     "metadata": {
      "needs_background": "light"
     },
     "output_type": "display_data"
    }
   ],
   "source": [
    "# Set up the CurveModel\n",
    "model = CurveModel(\n",
    "    df=df,\n",
    "    col_t='time',\n",
    "    col_obs='ln_death_rate',\n",
    "    col_group='group',\n",
    "    col_covs=[['intercept'], ['intercept'], ['intercept']],\n",
    "    param_names=['alpha', 'beta', 'p'],\n",
    "    link_fun=[lambda x: np.exp(x), lambda x: x, lambda x: np.exp(x)],\n",
    "    var_link_fun=[lambda x: x, lambda x: x, lambda x: x],\n",
    "    fun=ln_gaussian_cdf\n",
    ")\n",
    "\n",
    "# Fit the model to estimate parameters\n",
    "model.fit_params(\n",
    "    fe_init=[-3, 100, 1],\n",
    "    options={\n",
    "        'ftol': 1e-14,\n",
    "        'maxiter': 500\n",
    "    },\n",
    "    re_bounds= [[0, 0]] * 3\n",
    ")\n",
    "\n",
    "# Get predictions\n",
    "y_pred = model.predict(\n",
    "    t=np.arange(200),\n",
    "    group_name=df.group.unique()\n",
    ")\n",
    "\n",
    "# Normal value\n",
    "alpha = 0.035\n",
    "beta = 100\n",
    "p = 10 ** 5\n",
    "\n",
    "# Plot results\n",
    "plt.plot(np.arange(200), y_pred, '-')\n",
    "plt.plot(df.time, df.ln_death_rate, '.')\n",
    "plt.show()"
   ]
  },
  {
   "cell_type": "code",
   "execution_count": 6,
   "metadata": {},
   "outputs": [
    {
     "name": "stdout",
     "output_type": "stream",
     "text": [
      "[4.37250751e-02 5.66861507e+01 3.56886316e+03]\n"
     ]
    }
   ],
   "source": [
    "params = np.squeeze(model.params)\n",
    "print(params)"
   ]
  },
  {
   "cell_type": "markdown",
   "metadata": {},
   "source": [
    "<h3>13 Gaussian Atoms with staggered peaks</h3>"
   ]
  },
  {
   "cell_type": "code",
   "execution_count": 7,
   "metadata": {},
   "outputs": [],
   "source": [
    "X = np.zeros((df.time.shape[0], 13))\n",
    "y = df.ln_death_rate\n",
    "params[2] -= 12\n",
    "\n",
    "for j in range(13):\n",
    "    X[:, j] = ln_gaussian_cdf(df.time, params)\n",
    "    params[2] += 2"
   ]
  },
  {
   "cell_type": "code",
   "execution_count": 8,
   "metadata": {},
   "outputs": [],
   "source": [
    "from sklearn.linear_model import LinearRegression"
   ]
  },
  {
   "cell_type": "code",
   "execution_count": 9,
   "metadata": {},
   "outputs": [],
   "source": [
    "reg = LinearRegression(fit_intercept=False)\n",
    "reg.fit(X, y)\n",
    "weights = reg.coef_"
   ]
  },
  {
   "cell_type": "code",
   "execution_count": 10,
   "metadata": {},
   "outputs": [],
   "source": [
    "preds = X @ weights"
   ]
  },
  {
   "cell_type": "code",
   "execution_count": 11,
   "metadata": {},
   "outputs": [
    {
     "data": {
      "image/png": "[encoded data removed]",
      "text/plain": [
       "<Figure size 432x288 with 1 Axes>"
      ]
     },
     "metadata": {
      "needs_background": "light"
     },
     "output_type": "display_data"
    }
   ],
   "source": [
    "plt.plot(preds)\n",
    "plt.plot(df.ln_death_rate)\n",
    "plt.show()"
   ]
  },
  {
   "cell_type": "markdown",
   "metadata": {},
   "source": [
    "<h2>Model fit for cumulative number of deaths in MH</h2>"
   ]
  },
  {
   "cell_type": "code",
   "execution_count": 15,
   "metadata": {},
   "outputs": [],
   "source": [
    "class DataFetcherState:\n",
    "    \"\"\"Fetch data for all states\"\"\"\n",
    "    \n",
    "    def __init__(self):\n",
    "        self.data = None\n",
    "        self.raw_data = None\n",
    "    \n",
    "    def fetch(self):\n",
    "        # Fetch the raw data\n",
    "        r = requests.get(url=\"https://api.covid19india.org/states_daily.json\")\n",
    "        self.raw_data = r.json()\n",
    "        self.data = {}\n",
    "        \n",
    "        # Iterate over the days and record the data\n",
    "        for entry in self.raw_data:\n",
    "            for state in entry:\n",
    "                if state == \"date\" or state == \"status\":\n",
    "                    continue\n",
    "                    \n",
    "                if state not in self.data:\n",
    "                    # Initialize this state\n",
    "                    self.data[state] = {\n",
    "                        'deceased': [],\n",
    "                        'recovered': [],\n",
    "                        'confirmed': []\n",
    "                    }\n",
    "                \n",
    "                # Append the data\n",
    "                self.data[state][entry['status']].append(entry[state])"
   ]
  },
  {
   "cell_type": "code",
   "execution_count": 17,
   "metadata": {},
   "outputs": [
    {
     "ename": "TypeError",
     "evalue": "argument of type 'NoneType' is not iterable",
     "output_type": "error",
     "traceback": [
      "\u001b[0;31m---------------------------------------------------------------------------\u001b[0m",
      "\u001b[0;31mTypeError\u001b[0m                                 Traceback (most recent call last)",
      "\u001b[0;32m<ipython-input-17-5a989b2e52ee>\u001b[0m in \u001b[0;36m<module>\u001b[0;34m\u001b[0m\n\u001b[1;32m      1\u001b[0m \u001b[0mfetcher\u001b[0m \u001b[0;34m=\u001b[0m \u001b[0mDataFetcherState\u001b[0m\u001b[0;34m(\u001b[0m\u001b[0;34m)\u001b[0m\u001b[0;34m\u001b[0m\u001b[0m\n\u001b[0;32m----> 2\u001b[0;31m \u001b[0mfetcher\u001b[0m\u001b[0;34m.\u001b[0m\u001b[0mfetch\u001b[0m\u001b[0;34m(\u001b[0m\u001b[0;34m)\u001b[0m\u001b[0;34m\u001b[0m\u001b[0m\n\u001b[0m",
      "\u001b[0;32m<ipython-input-15-97f660e0c355>\u001b[0m in \u001b[0;36mfetch\u001b[0;34m(self)\u001b[0m\n\u001b[1;32m     17\u001b[0m                     \u001b[0;32mcontinue\u001b[0m\u001b[0;34m\u001b[0m\u001b[0m\n\u001b[1;32m     18\u001b[0m \u001b[0;34m\u001b[0m\u001b[0m\n\u001b[0;32m---> 19\u001b[0;31m                 \u001b[0;32mif\u001b[0m \u001b[0mstate\u001b[0m \u001b[0;32mnot\u001b[0m \u001b[0;32min\u001b[0m \u001b[0mself\u001b[0m\u001b[0;34m.\u001b[0m\u001b[0mdata\u001b[0m\u001b[0;34m:\u001b[0m\u001b[0;34m\u001b[0m\u001b[0m\n\u001b[0m\u001b[1;32m     20\u001b[0m                     \u001b[0;31m# Initialize this state\u001b[0m\u001b[0;34m\u001b[0m\u001b[0;34m\u001b[0m\u001b[0m\n\u001b[1;32m     21\u001b[0m                     self.data[state] = {\n",
      "\u001b[0;31mTypeError\u001b[0m: argument of type 'NoneType' is not iterable"
     ]
    }
   ],
   "source": [
    "fetcher = DataFetcherState()\n",
    "fetcher.fetch()"
   ]
  },
  {
   "cell_type": "code",
   "execution_count": null,
   "metadata": {},
   "outputs": [],
   "source": []
  }
 ],
 "metadata": {
  "kernelspec": {
   "display_name": "venv",
   "language": "python",
   "name": "venv"
  },
  "language_info": {
   "codemirror_mode": {
    "name": "ipython",
    "version": 3
   },
   "file_extension": ".py",
   "mimetype": "text/x-python",
   "name": "python",
   "nbconvert_exporter": "python",
   "pygments_lexer": "ipython3",
   "version": "3.6.3"
  }
 },
 "nbformat": 4,
 "nbformat_minor": 2
}
