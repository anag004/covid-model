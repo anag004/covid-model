{
 "cells": [
  {
   "cell_type": "code",
   "execution_count": 19,
   "metadata": {},
   "outputs": [],
   "source": [
    "import pandas as pd\n",
    "import numpy as np\n",
    "import matplotlib.pyplot as plt\n",
    "import requests\n",
    "from curvefit.core.model import CurveModel\n",
    "from curvefit.core.functions import ln_gaussian_cdf, gaussian_cdf\n",
    "from scipy.stats import norm\n",
    "from sklearn.linear_model import LinearRegression"
   ]
  },
  {
   "cell_type": "code",
   "execution_count": 4,
   "metadata": {},
   "outputs": [],
   "source": [
    "# Fetches the data from the COVID19India website\n",
    "class DataFetcher:\n",
    "    def __init__(self, url=\"https://api.covid19india.org/data.json\"):\n",
    "        self.url = url\n",
    "        self.json_data = None\n",
    "        self.cases_time_series = None\n",
    "        \n",
    "    def fetch(self):\n",
    "        r = requests.get(url=self.url)\n",
    "        self.json_data = r.json()\n",
    "        \n",
    "        # Get the fields\n",
    "        fields = list(self.json_data['cases_time_series'][0].keys())\n",
    "        self.cases_time_series = {}\n",
    "        \n",
    "        for field in fields:\n",
    "            if field == 'date':\n",
    "                self.cases_time_series[field] = [x[field] for x in self.json_data['cases_time_series']]\n",
    "            else:\n",
    "                self.cases_time_series[field] = np.array([float(x[field]) for x in self.json_data['cases_time_series']])"
   ]
  },
  {
   "cell_type": "code",
   "execution_count": 9,
   "metadata": {},
   "outputs": [],
   "source": [
    "class GaussianCDF:\n",
    "    \"\"\"Fit a single Gaussian Atom to cumulative daily deaths\"\"\"\n",
    "    \n",
    "    def __init__(self):\n",
    "        self.model = None\n",
    "    \n",
    "    def fit(self, daily_deaths):\n",
    "        daily_deaths = np.array(daily_deaths)\n",
    "        \n",
    "        # Prepare the data frame\n",
    "        df = pd.DataFrame()\n",
    "        df['death_rate'] = np.cumsum(daily_deaths)\n",
    "        df['time'] = np.arange(df['death_rate'].shape[0])\n",
    "        df['ln_death_rate'] = np.log(df['death_rate'] + 1) # Add 1 to pad in case the #deaths are zero\n",
    "        df['group'] = 'all'\n",
    "        df['cov_one'] = 1.0 # Constant covariate\n",
    "        \n",
    "        # Set up the CurveModel\n",
    "        self.model = CurveModel(\n",
    "            df=df,\n",
    "            col_t='time',\n",
    "            col_obs='ln_death_rate',\n",
    "            col_group='group',\n",
    "            col_covs=[['cov_one'], ['cov_one'], ['cov_one']],\n",
    "            param_names=['alpha', 'beta', 'p'],\n",
    "            link_fun=[lambda x: np.exp(x), lambda x: x, lambda x: np.exp(x)],\n",
    "            var_link_fun=[lambda x: x, lambda x: x, lambda x: x],\n",
    "            fun=ln_gaussian_cdf\n",
    "        )\n",
    "\n",
    "        # Fit the model to estimate parameters\n",
    "        self.model.fit_params(\n",
    "            fe_init=[-3, 100, 1],\n",
    "            options={\n",
    "                'ftol': 1e-14,\n",
    "                'maxiter': 500\n",
    "            },\n",
    "            re_bounds= [[0, 0]] * 3    # No random effects\n",
    "        )\n",
    "    \n",
    "    def predict(self, t):\n",
    "        \"\"\"Get predictions for values in t\"\"\"\n",
    "        \n",
    "        return self.model.predict(t=t, group_name='all')\n",
    "    \n",
    "    def get_params(self):\n",
    "        return np.squeeze(model.params)"
   ]
  },
  {
   "cell_type": "code",
   "execution_count": 32,
   "metadata": {},
   "outputs": [],
   "source": [
    "class MultiGaussianCDF:\n",
    "    \"\"\"Mixture of Gaussians with staggered peaks\"\"\"\n",
    "    \n",
    "    def __init__(self, params, k=6, inc=2):\n",
    "        self.params = params\n",
    "        self.k = k\n",
    "        self.inc = inc\n",
    "        self.weights = None\n",
    "        \n",
    "    def compute_x(self, ln_death_rate):\n",
    "        X = np.zeros((ln_death_rate.shape[0], 2 * self.k + 1))\n",
    "        self.params[2] -= self.inc * self.k\n",
    "        \n",
    "        t = np.arange(ln_death_rate.shape[0])\n",
    "        \n",
    "        for j in range(2 * self.k + 1):\n",
    "            X[:, j] = ln_gaussian_cdf(t, params)\n",
    "            params[2] += self.inc\n",
    "            \n",
    "        return X\n",
    "        \n",
    "    def fit(self, ln_death_rate):\n",
    "        X = self.compute_x(ln_death_rate)\n",
    "        y = ln_death_rate\n",
    "        \n",
    "        reg = LinearRegression(fit_intercept=False)\n",
    "        reg.fit(X, y)\n",
    "        self.weights = reg.coef_\n",
    "        \n",
    "    def predict(self, t):\n",
    "        X = self.compute_x(t)\n",
    "        return X @ self.weights"
   ]
  },
  {
   "cell_type": "markdown",
   "metadata": {},
   "source": [
    "<h2>Model fit for cumulative number of deaths in India</h2>"
   ]
  },
  {
   "cell_type": "markdown",
   "metadata": {},
   "source": [
    "<h3>Single Gaussian Atom</h3>"
   ]
  },
  {
   "cell_type": "code",
   "execution_count": null,
   "metadata": {},
   "outputs": [],
   "source": [
    "fetcher = DataFetcher()\n",
    "fetcher.fetch()"
   ]
  },
  {
   "cell_type": "code",
   "execution_count": 33,
   "metadata": {},
   "outputs": [
    {
     "data": {
      "image/png": "[encoded data removed]",
      "text/plain": [
       "<Figure size 432x288 with 1 Axes>"
      ]
     },
     "metadata": {
      "needs_background": "light"
     },
     "output_type": "display_data"
    }
   ],
   "source": [
    "offset = 40 # Ignore the first 40 observations\n",
    "death_data = fetcher.cases_time_series['dailydeceased'][offset:]\n",
    "time_values = np.arange(death_data.shape[0])\n",
    "\n",
    "model_india = GaussianCDF()\n",
    "model_india.fit(death_data)\n",
    "pred = model_india.predict(time_values)\n",
    "\n",
    "plt.plot(time_values, np.exp(pred))\n",
    "plt.plot(time_values, np.cumsum(death_data), '.')\n",
    "plt.show()"
   ]
  },
  {
   "cell_type": "markdown",
   "metadata": {},
   "source": [
    "<h3>13 Gaussian Atoms with staggered peaks</h3>"
   ]
  },
  {
   "cell_type": "code",
   "execution_count": 36,
   "metadata": {},
   "outputs": [
    {
     "data": {
      "image/png": "[encoded data removed]",
      "text/plain": [
       "<Figure size 432x288 with 1 Axes>"
      ]
     },
     "metadata": {
      "needs_background": "light"
     },
     "output_type": "display_data"
    }
   ],
   "source": [
    "params = model_india.get_params()\n",
    "multi_gauss = MultiGaussianCDF(params)\n",
    "ln_death_rate = np.log(np.cumsum(death_data) + 1)\n",
    "multi_gauss.fit(ln_death_rate)\n",
    "\n",
    "preds = multi_gauss.predict(np.arange(ln_death_rate.shape[0]))\n",
    "plt.plot(preds)\n",
    "plt.plot(ln_death_rate)\n",
    "plt.show()"
   ]
  },
  {
   "cell_type": "markdown",
   "metadata": {},
   "source": [
    "<h2>Model fit for cumulative number of deaths in MH</h2>"
   ]
  },
  {
   "cell_type": "code",
   "execution_count": 38,
   "metadata": {},
   "outputs": [],
   "source": [
    "class DataFetcherState:\n",
    "    \"\"\"Fetch data for all states\"\"\"\n",
    "    \n",
    "    def __init__(self):\n",
    "        self.data = None\n",
    "        self.raw_data = None\n",
    "    \n",
    "    def fetch(self):\n",
    "        # Fetch the raw data\n",
    "        r = requests.get(url=\"https://api.covid19india.org/states_daily.json\")\n",
    "        self.raw_data = r.json()\n",
    "        self.data = {}\n",
    "        \n",
    "        # Iterate over the days and record the data\n",
    "        for entry in self.raw_data['states_daily']:\n",
    "            status = entry['status'].lower()\n",
    "            for state in entry:\n",
    "                if state == \"date\" or state == \"status\":\n",
    "                    continue\n",
    "                    \n",
    "                if state not in self.data:\n",
    "                    # Initialize this state\n",
    "                    self.data[state] = {\n",
    "                        'deceased': [],\n",
    "                        'recovered': [],\n",
    "                        'confirmed': []\n",
    "                    }\n",
    "                \n",
    "                # Append the data\n",
    "                self.data[state][status].append(entry[state])"
   ]
  },
  {
   "cell_type": "code",
   "execution_count": null,
   "metadata": {},
   "outputs": [],
   "source": [
    "death_rate = np.array(fetcher.data['mh']['deceased'], dtype=float)\n",
    "plt.plot(np.cumsum(death_rate))\n",
    "plt.title(\"Cumulative deaths in MH\")\n",
    "plt.show()"
   ]
  },
  {
   "cell_type": "markdown",
   "metadata": {},
   "source": [
    "<h2>Single Gaussian Atom</h2>"
   ]
  },
  {
   "cell_type": "code",
   "execution_count": 39,
   "metadata": {},
   "outputs": [],
   "source": [
    "fetcher = DataFetcherState()\n",
    "fetcher.fetch()"
   ]
  },
  {
   "cell_type": "code",
   "execution_count": 40,
   "metadata": {},
   "outputs": [
    {
     "data": {
      "image/png": "[encoded data removed]",
      "text/plain": [
       "<Figure size 432x288 with 1 Axes>"
      ]
     },
     "metadata": {
      "needs_background": "light"
     },
     "output_type": "display_data"
    }
   ],
   "source": [
    "death_data = np.array(fetcher.data['mh']['deceased'], dtype=float)\n",
    "time_values = np.arange(death_data.shape[0])\n",
    "\n",
    "model_mh = GaussianCDF()\n",
    "model_mh.fit(death_data)\n",
    "pred = model_mh.predict(time_values)\n",
    "\n",
    "plt.plot(time_values, np.exp(pred))\n",
    "plt.plot(time_values, np.cumsum(death_data), '.')\n",
    "plt.show()"
   ]
  },
  {
   "cell_type": "markdown",
   "metadata": {},
   "source": [
    "<h2>Multiple Gaussian Atoms</h2>"
   ]
  },
  {
   "cell_type": "code",
   "execution_count": 43,
   "metadata": {},
   "outputs": [
    {
     "data": {
      "image/png": "[encoded data removed]",
      "text/plain": [
       "<Figure size 432x288 with 1 Axes>"
      ]
     },
     "metadata": {
      "needs_background": "light"
     },
     "output_type": "display_data"
    }
   ],
   "source": [
    "params = model_mh.get_params()\n",
    "multi_gauss = MultiGaussianCDF(params)\n",
    "ln_death_rate = np.log(np.cumsum(death_data) + 1)\n",
    "multi_gauss.fit(ln_death_rate)\n",
    "\n",
    "preds = multi_gauss.predict(np.arange(ln_death_rate.shape[0]))\n",
    "plt.plot(np.exp(preds))\n",
    "plt.plot(np.cumsum(death_data), '.')\n",
    "plt.show()"
   ]
  },
  {
   "cell_type": "markdown",
   "metadata": {},
   "source": [
    "<h1>Testing predictive power</h1>"
   ]
  },
  {
   "cell_type": "markdown",
   "metadata": {},
   "source": [
    "<h2>India - single gaussian atom</h2>"
   ]
  },
  {
   "cell_type": "code",
   "execution_count": 55,
   "metadata": {},
   "outputs": [],
   "source": [
    "fetcher = DataFetcher()\n",
    "fetcher.fetch()"
   ]
  },
  {
   "cell_type": "code",
   "execution_count": 56,
   "metadata": {},
   "outputs": [],
   "source": [
    "offset = 40 # Exclude data from the starting\n",
    "limit = 14 # Exclude last 7 days of data"
   ]
  },
  {
   "cell_type": "code",
   "execution_count": 57,
   "metadata": {},
   "outputs": [
    {
     "data": {
      "image/png": "[encoded data removed]",
      "text/plain": [
       "<Figure size 432x288 with 1 Axes>"
      ]
     },
     "metadata": {
      "needs_background": "light"
     },
     "output_type": "display_data"
    }
   ],
   "source": [
    "death_data = fetcher.cases_time_series['dailydeceased'][offset:-limit]\n",
    "time_values = np.arange(death_data.shape[0])\n",
    "\n",
    "model_india = GaussianCDF()\n",
    "model_india.fit(death_data)\n",
    "pred = model_india.predict(time_values)\n",
    "\n",
    "plt.plot(time_values[:-limit], np.exp(pred)[:-limit])\n",
    "plt.plot(time_values[-limit-1:], np.exp(pred)[-limit-1:])\n",
    "plt.plot(time_values, np.cumsum(death_data), '.')\n",
    "plt.show()"
   ]
  },
  {
   "cell_type": "markdown",
   "metadata": {},
   "source": [
    "<h2>MH - single gaussian atom</h2>"
   ]
  },
  {
   "cell_type": "code",
   "execution_count": 58,
   "metadata": {},
   "outputs": [],
   "source": [
    "fetcher = DataFetcherState()\n",
    "fetcher.fetch()"
   ]
  },
  {
   "cell_type": "code",
   "execution_count": 62,
   "metadata": {},
   "outputs": [],
   "source": [
    "limit = 7 # Exclude last 7 days of data"
   ]
  },
  {
   "cell_type": "code",
   "execution_count": 63,
   "metadata": {},
   "outputs": [
    {
     "data": {
      "image/png": "[encoded data removed]",
      "text/plain": [
       "<Figure size 432x288 with 1 Axes>"
      ]
     },
     "metadata": {
      "needs_background": "light"
     },
     "output_type": "display_data"
    }
   ],
   "source": [
    "death_data = np.array(fetcher.data['mh']['deceased'][:-limit], dtype=float)\n",
    "time_values = np.arange(death_data.shape[0])\n",
    "\n",
    "model_mh = GaussianCDF()\n",
    "model_mh.fit(death_data)\n",
    "pred = model_mh.predict(time_values)\n",
    "\n",
    "plt.plot(time_values[:-limit], np.exp(pred)[:-limit])\n",
    "plt.plot(time_values[-limit-1:], np.exp(pred)[-limit-1:])\n",
    "plt.plot(time_values, np.cumsum(death_data), '.')\n",
    "plt.show()"
   ]
  },
  {
   "cell_type": "markdown",
   "metadata": {},
   "source": [
    "<h1>Peak prediction</h1>"
   ]
  },
  {
   "cell_type": "markdown",
   "metadata": {},
   "source": [
    "<h2>India - single gaussian atom</h2>"
   ]
  },
  {
   "cell_type": "code",
   "execution_count": 74,
   "metadata": {},
   "outputs": [],
   "source": [
    "fetcher = DataFetcher()\n",
    "fetcher.fetch()"
   ]
  },
  {
   "cell_type": "code",
   "execution_count": 75,
   "metadata": {},
   "outputs": [],
   "source": [
    "offset = 40 # Exclude data from the starting\n",
    "extra_pred = 60 # How much to predict into the future"
   ]
  },
  {
   "cell_type": "code",
   "execution_count": 76,
   "metadata": {},
   "outputs": [
    {
     "data": {
      "image/png": "[encoded data removed]",
      "text/plain": [
       "<Figure size 432x288 with 1 Axes>"
      ]
     },
     "metadata": {
      "needs_background": "light"
     },
     "output_type": "display_data"
    }
   ],
   "source": [
    "death_data = fetcher.cases_time_series['dailydeceased'][offset:]\n",
    "time_values = np.arange(death_data.shape[0])\n",
    "\n",
    "model_india = GaussianCDF()\n",
    "model_india.fit(death_data)\n",
    "future_time_values = np.arange(death_data.shape[0] + extra_pred)\n",
    "pred = model_india.predict(future_time_values)\n",
    "\n",
    "plt.plot(future_time_values, np.exp(pred))\n",
    "plt.plot(time_values, np.cumsum(death_data), '.')\n",
    "plt.show()"
   ]
  },
  {
   "cell_type": "markdown",
   "metadata": {},
   "source": [
    "<h2>India - multiple gaussian atom</h2>"
   ]
  },
  {
   "cell_type": "code",
   "execution_count": 80,
   "metadata": {},
   "outputs": [
    {
     "data": {
      "image/png": "[encoded data removed]",
      "text/plain": [
       "<Figure size 432x288 with 1 Axes>"
      ]
     },
     "metadata": {
      "needs_background": "light"
     },
     "output_type": "display_data"
    }
   ],
   "source": [
    "params = model_india.get_params()\n",
    "multi_gauss = MultiGaussianCDF(params)\n",
    "ln_death_rate = np.log(np.cumsum(death_data) + 1)\n",
    "multi_gauss.fit(ln_death_rate)\n",
    "\n",
    "preds = multi_gauss.predict(future_time_values)\n",
    "plt.plot(future_time_values, np.exp(preds))\n",
    "plt.plot(time_values, np.cumsum(death_data), '.')\n",
    "plt.show()"
   ]
  }
 ],
 "metadata": {
  "kernelspec": {
   "display_name": "venv",
   "language": "python",
   "name": "venv"
  },
  "language_info": {
   "codemirror_mode": {
    "name": "ipython",
    "version": 3
   },
   "file_extension": ".py",
   "mimetype": "text/x-python",
   "name": "python",
   "nbconvert_exporter": "python",
   "pygments_lexer": "ipython3",
   "version": "3.6.3"
  }
 },
 "nbformat": 4,
 "nbformat_minor": 2
}
