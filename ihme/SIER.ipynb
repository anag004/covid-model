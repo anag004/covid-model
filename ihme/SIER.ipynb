{
 "cells": [
  {
   "cell_type": "code",
   "execution_count": 1,
   "metadata": {},
   "outputs": [],
   "source": [
    "import pandas as pd\n",
    "import numpy as np\n",
    "import matplotlib.pyplot as plt\n",
    "import requests\n",
    "from scipy.integrate import solve_ivp\n",
    "\n",
    "#import warnings\n",
    "#warnings.filterwarnings(\"ignore\")"
   ]
  },
  {
   "cell_type": "code",
   "execution_count": 2,
   "metadata": {},
   "outputs": [],
   "source": [
    "class DataFetcher:\n",
    "    def __init__(self, url=\"https://api.covid19india.org/data.json\"):\n",
    "        self.url = url\n",
    "        self.json_data = None\n",
    "        self.cases_time_series = None\n",
    "        \n",
    "    def fetch(self):\n",
    "        r = requests.get(url=self.url)\n",
    "        self.json_data = r.json()\n",
    "        \n",
    "        # Get the fields\n",
    "        fields = list(self.json_data['cases_time_series'][0].keys())\n",
    "        self.cases_time_series = {}\n",
    "        \n",
    "        for field in fields:\n",
    "            if field == 'date':\n",
    "                self.cases_time_series[field] = [x[field] for x in self.json_data['cases_time_series']]\n",
    "            else:\n",
    "                self.cases_time_series[field] = np.array([float(x[field]) for x in self.json_data['cases_time_series']])\n",
    "        \n",
    "    def trainData(self):\n",
    "        self.fetch()\n",
    "        index = np.where(self.cases_time_series[\"totaldeceased\"]>n)[0][0]\n",
    "        startdate = self.cases_time_series[\"date\"][index]\n",
    "        return self.cases_time_series[\"totaldeceased\"][index:], startdate"
   ]
  },
  {
   "cell_type": "code",
   "execution_count": 3,
   "metadata": {},
   "outputs": [],
   "source": [
    "# Susceptible equation\n",
    "def dS_dt(S, I, R_t, T_inf):\n",
    "    return -(R_t / T_inf) * I * S\n",
    "\n",
    "# Exposed equation\n",
    "def dE_dt(S, E, I, R_t, T_inf, T_inc):\n",
    "    return (R_t / T_inf) * I * S - (T_inc**-1) * E\n",
    "\n",
    "# Infected equation\n",
    "def dI_dt(I, E, T_inc, T_inf):\n",
    "    return (T_inc**-1) * E - (T_inf**-1) * I\n",
    "\n",
    "# Recovered/deceased equation\n",
    "def dR_dt(I, T_inf):\n",
    "    return (T_inf**-1) * I\n",
    "\n",
    "def SEIR_model(t, y, R_t, T_inf, T_inc):\n",
    "    \n",
    "    if callable(R_t):\n",
    "        reproduction = R_t(t)\n",
    "    else:\n",
    "        reproduction = R_t\n",
    "    \n",
    "    S, E, I, R = y\n",
    "    S_out = dS_dt(S, I, reproduction, T_inf)\n",
    "    E_out = dE_dt(S, E, I, reproduction, T_inf, T_inc)\n",
    "    I_out = dI_dt(I, E, T_inc, T_inf)\n",
    "    R_out = dR_dt(I, T_inf)\n",
    "    return [S_out, E_out, I_out, R_out]"
   ]
  },
  {
   "cell_type": "code",
   "execution_count": 4,
   "metadata": {},
   "outputs": [],
   "source": [
    "N = 100000  # Population size\n",
    "n_infected = 1\n",
    "max_days = 200\n",
    "\n",
    "# State at time = 0 for SEIR model\n",
    "a = (N - n_infected)/ N\n",
    "b = 0\n",
    "c = n_infected / N\n",
    "d = 0."
   ]
  },
  {
   "cell_type": "code",
   "execution_count": 5,
   "metadata": {},
   "outputs": [],
   "source": [
    "def plot_model(solution, title='SEIR model'):\n",
    "    sus, exp, inf, rec = solution.y\n",
    "\n",
    "    f = plt.figure(figsize=(8,5)) \n",
    "    plt.plot(sus, 'b', label='Susceptible');\n",
    "    plt.plot(exp, 'y', label='Exposed');\n",
    "    plt.plot(inf, 'r', label='Infected');\n",
    "    plt.plot(rec, 'c', label='Recovered/deceased');\n",
    "    plt.title(title)\n",
    "    plt.xlabel(\"Days\", fontsize=10);\n",
    "    plt.ylabel(\"Fraction of population\", fontsize=10);\n",
    "    plt.legend(loc='best');"
   ]
  },
  {
   "cell_type": "markdown",
   "metadata": {},
   "source": [
    "## Check Equations\n",
    "R_0 is taken as a constant; check if the equations are correct <br/>\n",
    "Parameters taken from https://gabgoh.github.io/COVID/index.html"
   ]
  },
  {
   "cell_type": "code",
   "execution_count": 6,
   "metadata": {},
   "outputs": [
    {
     "data": {
      "image/png": "[encoded data removed]",
      "text/plain": [
       "<Figure size 576x360 with 1 Axes>"
      ]
     },
     "metadata": {
      "needs_background": "light"
     },
     "output_type": "display_data"
    }
   ],
   "source": [
    "T_inc = 5.2  # average incubation period\n",
    "T_inf = 2.9  # average infectious period\n",
    "R_0 = 2.2  # reproduction number\n",
    "\n",
    "sol = solve_ivp(SEIR_model, [0, max_days], [a, b, c, d], args=(R_0, T_inf, T_inc), \n",
    "                t_eval=np.arange(max_days))\n",
    "\n",
    "plot_model(sol, 'SEIR Model (without intervention)')"
   ]
  },
  {
   "cell_type": "markdown",
   "metadata": {},
   "source": [
    "## Fitting with real data\n",
    "Following are taken to be constant for the virus<br/>\n",
    "\n",
    "Average incubation period, T_inc<br/>\n",
    "Average infection period, T_inf<br/>\n",
    "\n",
    "Following are taken as variables<br/>\n",
    "Reproduction number, R_t\n"
   ]
  },
  {
   "cell_type": "code",
   "execution_count": 7,
   "metadata": {},
   "outputs": [],
   "source": [
    "#India\n",
    "fetcher = DataFetcher()\n",
    "fetcher.fetch()\n"
   ]
  },
  {
   "cell_type": "code",
   "execution_count": null,
   "metadata": {},
   "outputs": [],
   "source": []
  },
  {
   "cell_type": "code",
   "execution_count": null,
   "metadata": {},
   "outputs": [],
   "source": []
  },
  {
   "cell_type": "code",
   "execution_count": null,
   "metadata": {},
   "outputs": [],
   "source": []
  }
 ],
 "metadata": {
  "kernelspec": {
   "display_name": "Python 3",
   "language": "python",
   "name": "python3"
  },
  "language_info": {
   "codemirror_mode": {
    "name": "ipython",
    "version": 3
   },
   "file_extension": ".py",
   "mimetype": "text/x-python",
   "name": "python",
   "nbconvert_exporter": "python",
   "pygments_lexer": "ipython3",
   "version": "3.7.1"
  }
 },
 "nbformat": 4,
 "nbformat_minor": 4
}
