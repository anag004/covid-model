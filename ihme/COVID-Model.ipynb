{
 "cells": [
  {
   "cell_type": "code",
   "execution_count": 1,
   "metadata": {},
   "outputs": [],
   "source": [
    "import matplotlib.pyplot as plt\n",
    "import numpy as np\n",
    "from scipy.optimize import curve_fit\n",
    "import requests\n",
    "from scipy.integrate import odeint"
   ]
  },
  {
   "cell_type": "code",
   "execution_count": 2,
   "metadata": {},
   "outputs": [],
   "source": [
    "# Fetches the data from the COVID19India website\n",
    "class DataFetcher:\n",
    "    def __init__(self, url=\"https://api.covid19india.org/data.json\"):\n",
    "        self.url = url\n",
    "        self.json_data = None\n",
    "        self.cases_time_series = None\n",
    "        \n",
    "    def fetch(self):\n",
    "        r = requests.get(url=self.url)\n",
    "        self.json_data = r.json()\n",
    "        \n",
    "        # Get the fields\n",
    "        fields = list(self.json_data['cases_time_series'][0].keys())\n",
    "        self.cases_time_series = {}\n",
    "        \n",
    "        for field in fields:\n",
    "            if field == 'date':\n",
    "                self.cases_time_series[field] = [x[field] for x in self.json_data['cases_time_series']]\n",
    "            else:\n",
    "                self.cases_time_series[field] = np.array([float(x[field]) for x in self.json_data['cases_time_series']])"
   ]
  },
  {
   "cell_type": "markdown",
   "metadata": {},
   "source": [
    "<h2>A time independent SIR model</h2>\n",
    "\n",
    "$$  \\frac{dS}{dt} = -\\frac{\\beta IS}{N} \\tag1 $$\n",
    "$$    \\frac{dI}{dt} = \\frac{\\beta IS}{N} - \\gamma I \\tag2 $$\n",
    "$$    \\frac{dR}{dt} = \\gamma I \\tag3 $$\n"
   ]
  },
  {
   "cell_type": "code",
   "execution_count": 38,
   "metadata": {},
   "outputs": [],
   "source": [
    "fetcher = DataFetcher()\n",
    "fetcher.fetch()"
   ]
  },
  {
   "cell_type": "code",
   "execution_count": 39,
   "metadata": {},
   "outputs": [],
   "source": [
    "# Create a function closure which stores the initial values \n",
    "def sir(population, initial_infected, initial_recovered):\n",
    "    S_init = POP\n",
    "    R_init = initial_recovered \n",
    "    I_init = initial_infected\n",
    "    \n",
    "    def model(xdata, beta, gamma):\n",
    "        def f(vals, t, beta, gamma):\n",
    "            S, I, R = vals\n",
    "            S_dot = -beta * I * S / POP\n",
    "            I_dot = beta * I* S / POP - gamma * I\n",
    "            R_dot = gamma * I\n",
    "            return [S_dot, I_dot, R_dot]\n",
    "\n",
    "        results = odeint(f, [S_init, I_init, R_init], xdata, args=(beta,gamma))\n",
    "        return results[:, 1] + results[:, 2]\n",
    "    return model"
   ]
  },
  {
   "cell_type": "code",
   "execution_count": 50,
   "metadata": {},
   "outputs": [
    {
     "name": "stdout",
     "output_type": "stream",
     "text": [
      "Optimal params beta = 0.15942820927951862, gamma = 0.0026405544048675182\n",
      "R_0 = 60.376793973884226\n"
     ]
    },
    {
     "data": {
      "image/png": "[encoded data removed]",
      "text/plain": [
       "<Figure size 432x288 with 1 Axes>"
      ]
     },
     "metadata": {
      "needs_background": "light"
     },
     "output_type": "display_data"
    }
   ],
   "source": [
    "# Fit values to the curve\n",
    "TOTAL_LENGTH = len(fetcher.cases_time_series['totalconfirmed'])\n",
    "SDAY, EDAY = 35, 70\n",
    "POP = 1.2e9\n",
    "xdata = np.array(range(EDAY - SDAY))\n",
    "ydata = np.ones((EDAY - SDAY, 3))\n",
    "ydata[:, 2] = (fetcher.cases_time_series['totaldeceased'][SDAY:EDAY] + fetcher.cases_time_series['totalrecovered'][SDAY:EDAY]) \n",
    "ydata[:, 1] = (fetcher.cases_time_series['totalconfirmed'][SDAY:EDAY])\n",
    "ydata[:, 0] -= ydata[:, 1]\n",
    "\n",
    "func = sir(POP, ydata[:, 1][0], ydata[:, 2][0])\n",
    "popt, pcov = curve_fit(func, xdata, ydata[:, 1], p0=(0, 1))\n",
    "#                        bounds=([BETA_LB, GAMMA_LB], [BETA_UB, GAMMA_UB]))\n",
    "print(\"Optimal params beta = {}, gamma = {}\".format(popt[0], popt[1]))\n",
    "print(\"R_0 = {}\".format(popt[0] / popt[1]))\n",
    "preds = func(range(TOTAL_LENGTH - SDAY), popt[0], popt[1])\n",
    "actual = fetcher.cases_time_series['totalconfirmed'][SDAY:] \n",
    "plt.scatter(range(TOTAL_LENGTH - SDAY), actual, c='red', alpha=0.5, label=\"Actual values\")\n",
    "plt.plot(range(TOTAL_LENGTH - SDAY), preds, label=\"SIR predictions\")\n",
    "plt.xlabel(\"Day number since day #{}\".format(SDAY))\n",
    "plt.ylabel(\"No. of confirmed cases\")\n",
    "plt.legend()\n",
    "plt.show()"
   ]
  },
  {
   "cell_type": "markdown",
   "metadata": {},
   "source": [
    "<h2>A time dependent SIR model</h2>"
   ]
  },
  {
   "cell_type": "code",
   "execution_count": 51,
   "metadata": {},
   "outputs": [],
   "source": [
    "# Consider different beta values pre and post lockdown\n",
    "def sir_lockdown(population, initial_infected, initial_recovered, lockdown_time):\n",
    "    S_init = POP\n",
    "    R_init = initial_recovered \n",
    "    I_init = initial_infected\n",
    "    \n",
    "    def model(xdata, beta_pre, beta_post, gamma):\n",
    "        def f(vals, t, beta_pre, beta_post, gamma):\n",
    "            if t <= lockdown_time:\n",
    "                beta = beta_pre\n",
    "            else:\n",
    "                beta = beta_post\n",
    "                \n",
    "            S, I, R = vals\n",
    "            S_dot = -beta * I * S / POP\n",
    "            I_dot = beta * I* S / POP - gamma * I\n",
    "            R_dot = gamma * I\n",
    "            return [S_dot, I_dot, R_dot]\n",
    "\n",
    "        results = odeint(f, [S_init, I_init, R_init], xdata, args=(beta_pre, beta_post,gamma))\n",
    "        return results[:, 1] + results[:, 2]\n",
    "    return model"
   ]
  },
  {
   "cell_type": "code",
   "execution_count": 52,
   "metadata": {},
   "outputs": [
    {
     "name": "stdout",
     "output_type": "stream",
     "text": [
      "Optimal params beta_pre = 0.9996782347043194, beta_post = 1.1647475352200833, gamma = 0.9748032835627841\n"
     ]
    },
    {
     "data": {
      "image/png": "[encoded data removed]",
      "text/plain": [
       "<Figure size 432x288 with 1 Axes>"
      ]
     },
     "metadata": {
      "needs_background": "light"
     },
     "output_type": "display_data"
    }
   ],
   "source": [
    "# Create a fit of values\n",
    "TOTAL_LENGTH = len(fetcher.cases_time_series['totalconfirmed'])\n",
    "SDAY, EDAY = 35, 70\n",
    "LOCKDOWN_TIME = 53\n",
    "POP = 1.2e9\n",
    "xdata = np.array(range(EDAY - SDAY))\n",
    "ydata = np.ones((EDAY - SDAY, 3))\n",
    "ydata[:, 2] = (fetcher.cases_time_series['totaldeceased'][SDAY:EDAY] + fetcher.cases_time_series['totalrecovered'][SDAY:EDAY])\n",
    "ydata[:, 1] = (fetcher.cases_time_series['totalconfirmed'][SDAY:EDAY])\n",
    "ydata[:, 0] -= ydata[:, 1]\n",
    "\n",
    "func = sir_lockdown(POP, ydata[:, 1][0], ydata[:, 2][0], LOCKDOWN_TIME - SDAY)\n",
    "popt, pcov = curve_fit(func, xdata, ydata[:, 1])\n",
    "print(\"Optimal params beta_pre = {}, beta_post = {}, gamma = {}\".format(popt[0], popt[1], popt[2]))\n",
    "\n",
    "preds = func(range(TOTAL_LENGTH - SDAY), popt[0], popt[1], popt[2])\n",
    "actual = fetcher.cases_time_series['totalconfirmed'][SDAY:] \n",
    "plt.scatter(range(TOTAL_LENGTH - SDAY), actual, c='red', alpha=0.5, label=\"Actual values\")\n",
    "plt.plot(range(TOTAL_LENGTH - SDAY), preds, label=\"SIR predictions\")\n",
    "plt.xlabel(\"Day number since day #{}\".format(SDAY))\n",
    "plt.ylabel(\"No. of confirmed cases\")\n",
    "plt.legend()\n",
    "plt.show()"
   ]
  },
  {
   "cell_type": "code",
   "execution_count": null,
   "metadata": {},
   "outputs": [],
   "source": []
  }
 ],
 "metadata": {
  "kernelspec": {
   "display_name": "Python 3",
   "language": "python",
   "name": "python3"
  },
  "language_info": {
   "codemirror_mode": {
    "name": "ipython",
    "version": 3
   },
   "file_extension": ".py",
   "mimetype": "text/x-python",
   "name": "python",
   "nbconvert_exporter": "python",
   "pygments_lexer": "ipython3",
   "version": "3.6.3"
  }
 },
 "nbformat": 4,
 "nbformat_minor": 2
}
